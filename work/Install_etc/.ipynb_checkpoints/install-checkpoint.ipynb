{
 "cells": [
  {
   "cell_type": "code",
   "execution_count": null,
   "id": "1200c77b-58b9-4b7b-b03e-09e577576982",
   "metadata": {},
   "outputs": [],
   "source": [
    "#pip install jupyter-kite"
   ]
  },
  {
   "cell_type": "code",
   "execution_count": null,
   "id": "67d457bd-dc60-457c-8f7f-6c175e4c781f",
   "metadata": {},
   "outputs": [],
   "source": [
    "#npmjsでのインストール\n",
    "#pipでインストールの方がうまくいく\n",
    "#jupyter labextension install \"@kiteco/jupyterlab-kite\""
   ]
  },
  {
   "cell_type": "code",
   "execution_count": 1,
   "id": "1473e05a-7f12-4b3b-93ef-6ea58490d0d5",
   "metadata": {},
   "outputs": [
    {
     "name": "stdout",
     "output_type": "stream",
     "text": [
      "Collecting jupyterlab_vim\n",
      "  Downloading jupyterlab_vim-0.15.1-py3-none-any.whl (25 kB)\n",
      "Installing collected packages: jupyterlab-vim\n",
      "Successfully installed jupyterlab-vim-0.15.1\n",
      "Note: you may need to restart the kernel to use updated packages.\n"
     ]
    }
   ],
   "source": [
    "pip install jupyterlab_vim"
   ]
  },
  {
   "cell_type": "code",
   "execution_count": 2,
   "id": "af93d083-a419-4313-92e3-2f4cd4770db5",
   "metadata": {},
   "outputs": [
    {
     "ename": "SyntaxError",
     "evalue": "invalid syntax (125000169.py, line 3)",
     "output_type": "error",
     "traceback": [
      "\u001b[0;36m  File \u001b[0;32m\"/tmp/ipykernel_124/125000169.py\"\u001b[0;36m, line \u001b[0;32m3\u001b[0m\n\u001b[0;31m    pip install jupyterlab-vimrc\u001b[0m\n\u001b[0m        ^\u001b[0m\n\u001b[0;31mSyntaxError\u001b[0m\u001b[0;31m:\u001b[0m invalid syntax\n"
     ]
    }
   ],
   "source": [
    "# for jlab 3+   \n",
    "# エラー出る時はterminalで実行すると良い\n",
    "pip install jupyterlab-vimrc"
   ]
  },
  {
   "cell_type": "code",
   "execution_count": 5,
   "id": "10b15408-65c4-4780-8596-fc23f5a39a1b",
   "metadata": {},
   "outputs": [
    {
     "name": "stdout",
     "output_type": "stream",
     "text": [
      "Requirement already satisfied: ccxt in /opt/conda/lib/python3.9/site-packages (1.53.20)\n",
      "Requirement already satisfied: aiodns<2.1,>=1.1.1 in /opt/conda/lib/python3.9/site-packages (from ccxt) (2.0.0)\n",
      "Requirement already satisfied: setuptools>=38.5.1 in /opt/conda/lib/python3.9/site-packages (from ccxt) (49.6.0.post20210108)\n",
      "Requirement already satisfied: yarl==1.6.3 in /opt/conda/lib/python3.9/site-packages (from ccxt) (1.6.3)\n",
      "Requirement already satisfied: aiohttp<3.8,>=3.7.4 in /opt/conda/lib/python3.9/site-packages (from ccxt) (3.7.4.post0)\n",
      "Requirement already satisfied: cryptography>=2.6.1 in /opt/conda/lib/python3.9/site-packages (from ccxt) (3.4.7)\n",
      "Requirement already satisfied: certifi>=2018.1.18 in /opt/conda/lib/python3.9/site-packages (from ccxt) (2021.5.30)\n",
      "Requirement already satisfied: requests>=2.18.4 in /opt/conda/lib/python3.9/site-packages (from ccxt) (2.26.0)\n",
      "Requirement already satisfied: idna>=2.0 in /opt/conda/lib/python3.9/site-packages (from yarl==1.6.3->ccxt) (3.1)\n",
      "Requirement already satisfied: multidict>=4.0 in /opt/conda/lib/python3.9/site-packages (from yarl==1.6.3->ccxt) (6.0.2)\n",
      "Requirement already satisfied: pycares>=3.0.0 in /opt/conda/lib/python3.9/site-packages (from aiodns<2.1,>=1.1.1->ccxt) (4.1.2)\n",
      "Requirement already satisfied: typing-extensions>=3.6.5 in /opt/conda/lib/python3.9/site-packages (from aiohttp<3.8,>=3.7.4->ccxt) (3.10.0.0)\n",
      "Requirement already satisfied: async-timeout<4.0,>=3.0 in /opt/conda/lib/python3.9/site-packages (from aiohttp<3.8,>=3.7.4->ccxt) (3.0.1)\n",
      "Requirement already satisfied: attrs>=17.3.0 in /opt/conda/lib/python3.9/site-packages (from aiohttp<3.8,>=3.7.4->ccxt) (21.2.0)\n",
      "Requirement already satisfied: chardet<5.0,>=2.0 in /opt/conda/lib/python3.9/site-packages (from aiohttp<3.8,>=3.7.4->ccxt) (4.0.0)\n",
      "Requirement already satisfied: cffi>=1.12 in /opt/conda/lib/python3.9/site-packages (from cryptography>=2.6.1->ccxt) (1.14.6)\n",
      "Requirement already satisfied: pycparser in /opt/conda/lib/python3.9/site-packages (from cffi>=1.12->cryptography>=2.6.1->ccxt) (2.20)\n",
      "Requirement already satisfied: charset-normalizer~=2.0.0 in /opt/conda/lib/python3.9/site-packages (from requests>=2.18.4->ccxt) (2.0.0)\n",
      "Requirement already satisfied: urllib3<1.27,>=1.21.1 in /opt/conda/lib/python3.9/site-packages (from requests>=2.18.4->ccxt) (1.26.6)\n",
      "Note: you may need to restart the kernel to use updated packages.\n"
     ]
    }
   ],
   "source": [
    "pip install ccxt"
   ]
  },
  {
   "cell_type": "code",
   "execution_count": null,
   "id": "9a5a3621-10da-432f-bc91-91f3777fdbd4",
   "metadata": {},
   "outputs": [],
   "source": [
    "# 他のモジュールのセルをインポートできるライブラリ\n",
    "pip install modcell"
   ]
  },
  {
   "cell_type": "code",
   "execution_count": 6,
   "id": "58267289-c139-45b2-a270-37b231cce134",
   "metadata": {},
   "outputs": [
    {
     "ename": "SyntaxError",
     "evalue": "invalid syntax (3926853918.py, line 2)",
     "output_type": "error",
     "traceback": [
      "\u001b[0;36m  File \u001b[0;32m\"/tmp/ipykernel_124/3926853918.py\"\u001b[0;36m, line \u001b[0;32m2\u001b[0m\n\u001b[0;31m    pip install rich\u001b[0m\n\u001b[0m        ^\u001b[0m\n\u001b[0;31mSyntaxError\u001b[0m\u001b[0;31m:\u001b[0m invalid syntax\n"
     ]
    }
   ],
   "source": [
    "# Jsonを見やすく表示する用\n",
    "pip install rich"
   ]
  },
  {
   "cell_type": "code",
   "execution_count": null,
   "id": "3b87f3fe-0058-4266-bf72-9c874a96b2a0",
   "metadata": {},
   "outputs": [],
   "source": [
    "jupyter labextension install @krassowski/jupyterlab_go_to_definition   # JupyterLab 2.x\n",
    "#pip install jupyterlab_go_to_definition   # JupyterLab 2.x"
   ]
  },
  {
   "cell_type": "code",
   "execution_count": null,
   "id": "e2d9df6e-e47f-4192-a6e3-902072440e24",
   "metadata": {},
   "outputs": [
    {
     "name": "stdout",
     "output_type": "stream",
     "text": [
      "Collecting lckr-jupyterlab-variableinspector\n",
      "  Downloading lckr_jupyterlab_variableinspector-3.0.9.tar.gz (60 kB)\n",
      "\u001b[K     |████████████████████████████████| 60 kB 3.1 MB/s eta 0:00:01\n",
      "\u001b[?25h  Installing build dependencies ... \u001b[?25l\\"
     ]
    }
   ],
   "source": [
    "pip install lckr-jupyterlab-variableinspector"
   ]
  },
  {
   "cell_type": "code",
   "execution_count": 1,
   "id": "c03c5111-907b-4824-b06c-0173859a64d8",
   "metadata": {},
   "outputs": [
    {
     "name": "stdout",
     "output_type": "stream",
     "text": [
      "Collecting line-bot-sdk\n",
      "  Downloading line_bot_sdk-2.3.0-py2.py3-none-any.whl (88 kB)\n",
      "\u001b[K     |████████████████████████████████| 88 kB 3.2 MB/s eta 0:00:01\n",
      "\u001b[?25hRequirement already satisfied: requests>=2.0 in /opt/conda/lib/python3.9/site-packages (from line-bot-sdk) (2.26.0)\n",
      "Collecting future\n",
      "  Downloading future-0.18.2.tar.gz (829 kB)\n",
      "\u001b[K     |████████████████████████████████| 829 kB 12.0 MB/s eta 0:00:01\n",
      "\u001b[?25hRequirement already satisfied: aiohttp>=3.7.4 in /opt/conda/lib/python3.9/site-packages (from line-bot-sdk) (3.7.4.post0)\n",
      "Requirement already satisfied: chardet<5.0,>=2.0 in /opt/conda/lib/python3.9/site-packages (from aiohttp>=3.7.4->line-bot-sdk) (4.0.0)\n",
      "Requirement already satisfied: yarl<2.0,>=1.0 in /opt/conda/lib/python3.9/site-packages (from aiohttp>=3.7.4->line-bot-sdk) (1.6.3)\n",
      "Requirement already satisfied: typing-extensions>=3.6.5 in /opt/conda/lib/python3.9/site-packages (from aiohttp>=3.7.4->line-bot-sdk) (3.10.0.0)\n",
      "Requirement already satisfied: async-timeout<4.0,>=3.0 in /opt/conda/lib/python3.9/site-packages (from aiohttp>=3.7.4->line-bot-sdk) (3.0.1)\n",
      "Requirement already satisfied: multidict<7.0,>=4.5 in /opt/conda/lib/python3.9/site-packages (from aiohttp>=3.7.4->line-bot-sdk) (6.0.2)\n",
      "Requirement already satisfied: attrs>=17.3.0 in /opt/conda/lib/python3.9/site-packages (from aiohttp>=3.7.4->line-bot-sdk) (21.2.0)\n",
      "Requirement already satisfied: idna<4,>=2.5 in /opt/conda/lib/python3.9/site-packages (from requests>=2.0->line-bot-sdk) (3.1)\n",
      "Requirement already satisfied: certifi>=2017.4.17 in /opt/conda/lib/python3.9/site-packages (from requests>=2.0->line-bot-sdk) (2021.5.30)\n",
      "Requirement already satisfied: charset-normalizer~=2.0.0 in /opt/conda/lib/python3.9/site-packages (from requests>=2.0->line-bot-sdk) (2.0.0)\n",
      "Requirement already satisfied: urllib3<1.27,>=1.21.1 in /opt/conda/lib/python3.9/site-packages (from requests>=2.0->line-bot-sdk) (1.26.6)\n",
      "Building wheels for collected packages: future\n",
      "  Building wheel for future (setup.py) ... \u001b[?25ldone\n",
      "\u001b[?25h  Created wheel for future: filename=future-0.18.2-py3-none-any.whl size=491059 sha256=c3df1fb8b5f269df03a90d14134c291f5b3b1537f7ba5c1fb14469a0b30a358e\n",
      "  Stored in directory: /home/jovyan/.cache/pip/wheels/2f/a0/d3/4030d9f80e6b3be787f19fc911b8e7aa462986a40ab1e4bb94\n",
      "Successfully built future\n",
      "Installing collected packages: future, line-bot-sdk\n",
      "Successfully installed future-0.18.2 line-bot-sdk-2.3.0\n",
      "Note: you may need to restart the kernel to use updated packages.\n"
     ]
    }
   ],
   "source": [
    "pip install line-bot-sdk"
   ]
  },
  {
   "cell_type": "code",
   "execution_count": null,
   "id": "9558fc03-602a-4901-b055-dcae86f6fe6b",
   "metadata": {},
   "outputs": [],
   "source": []
  }
 ],
 "metadata": {
  "kernelspec": {
   "display_name": "Python 3 (ipykernel)",
   "language": "python",
   "name": "python3"
  },
  "language_info": {
   "codemirror_mode": {
    "name": "ipython",
    "version": 3
   },
   "file_extension": ".py",
   "mimetype": "text/x-python",
   "name": "python",
   "nbconvert_exporter": "python",
   "pygments_lexer": "ipython3",
   "version": "3.9.5"
  }
 },
 "nbformat": 4,
 "nbformat_minor": 5
}
