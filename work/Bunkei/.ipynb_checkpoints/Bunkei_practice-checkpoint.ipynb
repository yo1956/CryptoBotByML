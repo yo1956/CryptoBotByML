{
 "cells": [
  {
   "cell_type": "code",
   "execution_count": null,
   "id": "31896891-b22a-48b2-a4ad-e0f10dc15c5a",
   "metadata": {},
   "outputs": [],
   "source": [
    "import requests"
   ]
  },
  {
   "cell_type": "code",
   "execution_count": null,
   "id": "480ae5c0-464e-4b95-a196-689031f400f4",
   "metadata": {},
   "outputs": [],
   "source": [
    "response = requests.get(\"https://api.bitflyer.jp/v1/ticker/\")\n",
    "data = response.json()\n",
    "print(response.json())\n",
    "#print(data[\"best_bid\"])"
   ]
  },
  {
   "cell_type": "code",
   "execution_count": null,
   "id": "8f2dcef7-e8e1-4338-b301-6d8f47dd939e",
   "metadata": {},
   "outputs": [],
   "source": [
    "print(data[\"best_bid\"])"
   ]
  },
  {
   "cell_type": "code",
   "execution_count": null,
   "id": "a34235a6-c310-467c-96e3-c725e05160b2",
   "metadata": {},
   "outputs": [],
   "source": [
    "response = requests.get(\"https://api.cryptowat.ch/markets/bitflyer/btcjpy/ohlc?periods=86400&after=1514764800\")\n",
    "data = response.json()\n",
    "print(data)"
   ]
  },
  {
   "cell_type": "code",
   "execution_count": null,
   "id": "44f4b6c1-06fc-451f-bb55-5e3945873eda",
   "metadata": {},
   "outputs": [],
   "source": [
    "#2018/1/16(1516060800)(ビットコインの価格の大暴落があった日)の終値,安値を取得\n",
    "allDayData = data[\"result\"][\"86400\"]\n",
    "for dayData in allDayData: \n",
    "    if dayData[0] == 1516147200:\n",
    "        targetDayData = dayData\n",
    "lowPrice = targetDayData[3]\n",
    "closePrice = targetDayData[4]\n",
    "print(lowPrice)\n",
    "print(closePrice)"
   ]
  },
  {
   "cell_type": "code",
   "execution_count": null,
   "id": "b2890b36-bc51-4d76-be89-844a22a37375",
   "metadata": {},
   "outputs": [],
   "source": [
    "response = requests.get(\"https://api.cryptowat.ch/markets/bitflyer/btcjpy/ohlc?periods=86400&after=1516060800\")\n",
    "data = response.json()\n",
    "print(data)"
   ]
  },
  {
   "cell_type": "markdown",
   "id": "6ecefa6a-2907-422b-8c34-a1fdae4ffc6c",
   "metadata": {},
   "source": [
    "# ccxt"
   ]
  },
  {
   "cell_type": "code",
   "execution_count": null,
   "id": "b7de6acc-d32f-4e46-96a7-fef49f80abc4",
   "metadata": {},
   "outputs": [],
   "source": [
    "import ccxt\n",
    "from pprint import pprint\n",
    "\n",
    "bitflyer = ccxt.bitflyer()\n",
    "pprint(bitflyer.has)"
   ]
  },
  {
   "cell_type": "code",
   "execution_count": null,
   "id": "3a030f74-e13c-4626-90fd-cd7e4cc14644",
   "metadata": {},
   "outputs": [],
   "source": [
    "ticker = bitflyer.fetch_ticker('BTC/JPY', params = { \"product_code\" : \"FX_BTC_JPY\" })\n",
    "#ticker = bitflyer.fetch_ticker(symbol='BTC/JPY')\n",
    "pprint(ticker)\n",
    "pprint(ticker['last'])"
   ]
  },
  {
   "cell_type": "code",
   "execution_count": null,
   "id": "1fdf6712-eee5-4a84-919b-07a0d6967029",
   "metadata": {},
   "outputs": [],
   "source": [
    "#講座とは関係ないがmodcellのテスト\n",
    "import sys\n",
    "sys.path.append('../Keys') #importの探索対象となるディレクトリを追加\n",
    "import modcell as mods"
   ]
  },
  {
   "cell_type": "code",
   "execution_count": null,
   "id": "39d92d9b-d830-4286-bf5a-682453e5c05a",
   "metadata": {},
   "outputs": [],
   "source": [
    "import Key as mod\n",
    "apiKey_bf    = mod.APIKey_bitFlyer\n",
    "apiSecret_bf = mod.APISecret_bitFlyer"
   ]
  },
  {
   "cell_type": "code",
   "execution_count": null,
   "id": "9bb36e68-3c82-4001-ad37-054786a50cba",
   "metadata": {},
   "outputs": [],
   "source": [
    "# FXの証拠金残高を確認する\n",
    "import ccxt\n",
    "from pprint import pprint\n",
    "\n",
    "bitflyer = ccxt.bitflyer()\n",
    "bitflyer.apiKey = apiKey_bf\n",
    "bitflyer.secret = apiSecret_bf\n",
    "\n",
    "collateral = bitflyer.private_get_getcollateral()\n",
    "pprint(collateral)"
   ]
  },
  {
   "cell_type": "markdown",
   "id": "9cd033e0-80ec-457b-b1c5-4b88071dfc40",
   "metadata": {},
   "source": [
    "### bitflyerや各取引所の個別APIをCCXTライブラリ経由で直接利用する方法 \n",
    "https://ryota-trade.com/?p=629"
   ]
  },
  {
   "cell_type": "markdown",
   "id": "7a43bf27-9c23-48e3-9844-364308b7e239",
   "metadata": {},
   "source": [
    "### 買い注文を出す"
   ]
  },
  {
   "cell_type": "code",
   "execution_count": null,
   "id": "726858fb-a2f7-4b9c-beb9-ee8c053724ae",
   "metadata": {},
   "outputs": [],
   "source": [
    "import sys\n",
    "sys.path.append('../Keys') #importの探索対象となるディレクトリを追加\n",
    "import modcell as mods\n",
    "import Key as mod\n",
    "apiKey_bf    = mod.APIKey_bitFlyer\n",
    "apiSecret_bf = mod.APISecret_bitFlyer\n",
    "import ccxt\n",
    "from pprint import pprint\n",
    "\n",
    "bitflyer = ccxt.bitflyer()\n",
    "bitflyer.apiKey = apiKey_bf\n",
    "bitflyer.secret = apiSecret_bf\n",
    "\n",
    "# product_codeにFX_BTC_JPYを指定するのを忘れると現物注文になるので注意\n",
    "order = bitflyer.create_order(\n",
    "\tsymbol = 'BTC/JPY',\n",
    "\ttype='limit',\n",
    "\tside='buy',\n",
    "\tprice='3000000',\n",
    "\tamount='0.01',\n",
    "\tparams = { \"product_code\" : \"FX_BTC_JPY\" }\n",
    "    )\n",
    "# 注文IDを表示\n",
    "pprint(order)"
   ]
  },
  {
   "cell_type": "markdown",
   "id": "e77e0c77-ebc7-4ddd-92cb-7afe1fe0036d",
   "metadata": {},
   "source": [
    "### 始値と終値を取得する"
   ]
  },
  {
   "cell_type": "code",
   "execution_count": null,
   "id": "fc300d62-ff3a-4871-9353-4818ef965e19",
   "metadata": {},
   "outputs": [],
   "source": [
    "import requests\n",
    "from datetime import datetime\n",
    "#from pprint import pprint\n",
    "from rich import print\n",
    "\n",
    "# CryptowatchのAPIで１分足を取得\n",
    "response = requests.get(\"https://api.cryptowat.ch/markets/bitflyer/btcfxjpy/ohlc?periods=60\")\n",
    "response = response.json()\n",
    "\n",
    "#pprint(response)\n",
    "print(response)"
   ]
  },
  {
   "cell_type": "code",
   "execution_count": null,
   "id": "35d239ab-1bb7-4603-b0c6-caa159fb918d",
   "metadata": {},
   "outputs": [],
   "source": [
    "# 最後から２番目のローソク足を取り出す\n",
    "data = response[\"result\"][\"60\"][-2]\n",
    "\n",
    "# ローソク足から日時・始値・終値を取り出す\n",
    "close_time = datetime.fromtimestamp(data[0]).strftime('%Y/%m/%d %H:%M')\n",
    "open_price = data[1]\n",
    "close_price = data[4]\n",
    "\n",
    "print( \"時間： \" + close_time\n",
    "\t+ \" 始値： \" + str(open_price)\n",
    "\t+ \" 終値： \" + str(close_price) )"
   ]
  },
  {
   "cell_type": "code",
   "execution_count": null,
   "id": "e27cdfda-c89a-483b-b7b5-20ee99604a1b",
   "metadata": {},
   "outputs": [],
   "source": [
    "import requests\n",
    "from datetime import datetime\n",
    "import time\n",
    "\n",
    "while True:\n",
    "\n",
    "\tresponse = requests.get(\"https://api.cryptowat.ch/markets/bitflyer/btcfxjpy/ohlc?periods=60\")\n",
    "\tresponse = response.json()\n",
    "\n",
    "\tdata = response[\"result\"][\"60\"][-2]\n",
    "\n",
    "\tclose_time = datetime.fromtimestamp(data[0]).strftime('%Y/%m/%d %H:%M')\n",
    "\topen_price = data[1]\n",
    "\tclose_price = data[4]\n",
    "\n",
    "\tprint( \"時間： \" + close_time\n",
    "\t\t+ \" 始値： \" + str(open_price)\n",
    "\t\t+ \" 終値： \" + str(close_price) )\n",
    "\n",
    "\ttime.sleep(10)"
   ]
  },
  {
   "cell_type": "code",
   "execution_count": null,
   "id": "3ae5b7d2-0550-4158-8a8a-e6b872ca3270",
   "metadata": {},
   "outputs": [],
   "source": []
  }
 ],
 "metadata": {
  "kernelspec": {
   "display_name": "Python 3 (ipykernel)",
   "language": "python",
   "name": "python3"
  },
  "language_info": {
   "codemirror_mode": {
    "name": "ipython",
    "version": 3
   },
   "file_extension": ".py",
   "mimetype": "text/x-python",
   "name": "python",
   "nbconvert_exporter": "python",
   "pygments_lexer": "ipython3",
   "version": "3.9.5"
  }
 },
 "nbformat": 4,
 "nbformat_minor": 5
}
